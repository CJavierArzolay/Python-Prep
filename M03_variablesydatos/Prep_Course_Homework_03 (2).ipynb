{
  "metadata": {
    "interpreter": {
      "hash": "c85384e4cb51c8b72350f3a8712cc8351fdc3955e32a27f9b60c6242ab125f01"
    },
    "kernelspec": {
      "name": "python",
      "display_name": "Python (Pyodide)",
      "language": "python"
    },
    "language_info": {
      "codemirror_mode": {
        "name": "python",
        "version": 3
      },
      "file_extension": ".py",
      "mimetype": "text/x-python",
      "name": "python",
      "nbconvert_exporter": "python",
      "pygments_lexer": "ipython3",
      "version": "3.8"
    }
  },
  "nbformat_minor": 4,
  "nbformat": 4,
  "cells": [
    {
      "cell_type": "markdown",
      "source": "## Variables",
      "metadata": {}
    },
    {
      "cell_type": "markdown",
      "source": "1) Crear una variable que contenga un elemento del conjunto de números enteros y luego imprimir por pantalla",
      "metadata": {}
    },
    {
      "cell_type": "code",
      "source": "nose = 12\nprint(nose)",
      "metadata": {
        "trusted": true
      },
      "execution_count": 1,
      "outputs": [
        {
          "name": "stdout",
          "text": "12\n",
          "output_type": "stream"
        }
      ]
    },
    {
      "cell_type": "markdown",
      "source": "2) Imprimir el tipo de dato de la constante 8.5",
      "metadata": {}
    },
    {
      "cell_type": "code",
      "source": "print(type(8.5))",
      "metadata": {
        "trusted": true
      },
      "execution_count": 2,
      "outputs": [
        {
          "name": "stdout",
          "text": "<class 'float'>\n",
          "output_type": "stream"
        }
      ]
    },
    {
      "cell_type": "markdown",
      "source": "3) Imprimir el tipo de dato de la variable creada en el punto 1",
      "metadata": {}
    },
    {
      "cell_type": "code",
      "source": "print(type(nose))",
      "metadata": {
        "trusted": true
      },
      "execution_count": 3,
      "outputs": [
        {
          "name": "stdout",
          "text": "<class 'int'>\n",
          "output_type": "stream"
        }
      ]
    },
    {
      "cell_type": "markdown",
      "source": "4) Crear una variable que contenga tu nombre",
      "metadata": {}
    },
    {
      "cell_type": "code",
      "source": "nom = \"CJavierArzolay\"",
      "metadata": {
        "trusted": true
      },
      "execution_count": 4,
      "outputs": []
    },
    {
      "cell_type": "markdown",
      "source": "5) Crear una variable que contenga un número complejo",
      "metadata": {}
    },
    {
      "cell_type": "code",
      "source": "com = 12j",
      "metadata": {
        "trusted": true
      },
      "execution_count": 5,
      "outputs": []
    },
    {
      "cell_type": "markdown",
      "source": "6) Mostrar el tipo de dato de la variable crada en el punto 5",
      "metadata": {}
    },
    {
      "cell_type": "code",
      "source": "print(type(com))",
      "metadata": {
        "trusted": true
      },
      "execution_count": 6,
      "outputs": [
        {
          "name": "stdout",
          "text": "<class 'complex'>\n",
          "output_type": "stream"
        }
      ]
    },
    {
      "cell_type": "markdown",
      "source": "7) Crear una variable que contenga el valor del número Pi redondeado a 4 decimales",
      "metadata": {}
    },
    {
      "cell_type": "code",
      "source": "import math\npie = round(math.pi,4)\nprint(pie)",
      "metadata": {
        "trusted": true
      },
      "execution_count": 7,
      "outputs": [
        {
          "name": "stdout",
          "text": "3.1416\n",
          "output_type": "stream"
        }
      ]
    },
    {
      "cell_type": "markdown",
      "source": "8) Crear una variable que contenga el valor 'True' y otra que contenga el valor True. ¿Se trata de lo mismo?",
      "metadata": {}
    },
    {
      "cell_type": "code",
      "source": "ftru = \"True\"\nrtru = True\nprint(ftru == rtru) # Como se podra observar la respuesta es no, no son lo mismo",
      "metadata": {
        "trusted": true
      },
      "execution_count": 8,
      "outputs": [
        {
          "name": "stdout",
          "text": "False\n",
          "output_type": "stream"
        }
      ]
    },
    {
      "cell_type": "markdown",
      "source": "9) Imprimir el tipo de dato correspondientes a las variables creadas en el punto 8",
      "metadata": {}
    },
    {
      "cell_type": "code",
      "source": "print(type(ftru),type(rtru))",
      "metadata": {
        "trusted": true
      },
      "execution_count": 9,
      "outputs": [
        {
          "name": "stdout",
          "text": "<class 'str'> <class 'bool'>\n",
          "output_type": "stream"
        }
      ]
    },
    {
      "cell_type": "markdown",
      "source": "10) Asignar a una variable, la suma de un número entero y otro decimal",
      "metadata": {}
    },
    {
      "cell_type": "code",
      "source": "ent = 69 + 45.23\nprint(ent)",
      "metadata": {
        "trusted": true
      },
      "execution_count": 10,
      "outputs": [
        {
          "name": "stdout",
          "text": "114.22999999999999\n",
          "output_type": "stream"
        }
      ]
    },
    {
      "cell_type": "markdown",
      "source": "11) Realizar una operación de suma de números complejos",
      "metadata": {}
    },
    {
      "cell_type": "code",
      "source": "print(45j + 34j)",
      "metadata": {
        "trusted": true
      },
      "execution_count": 11,
      "outputs": [
        {
          "name": "stdout",
          "text": "79j\n",
          "output_type": "stream"
        }
      ]
    },
    {
      "cell_type": "markdown",
      "source": "12) Realizar una operación de suma de un número real y otro complejo",
      "metadata": {}
    },
    {
      "cell_type": "code",
      "source": "print(34j + 23)",
      "metadata": {
        "trusted": true
      },
      "execution_count": 12,
      "outputs": [
        {
          "name": "stdout",
          "text": "(23+34j)\n",
          "output_type": "stream"
        }
      ]
    },
    {
      "cell_type": "markdown",
      "source": "13) Realizar una operación de multiplicación",
      "metadata": {}
    },
    {
      "cell_type": "code",
      "source": "print(4*6)",
      "metadata": {
        "trusted": true
      },
      "execution_count": 13,
      "outputs": [
        {
          "name": "stdout",
          "text": "24\n",
          "output_type": "stream"
        }
      ]
    },
    {
      "cell_type": "markdown",
      "source": "14) Mostrar el resultado de elevar 2 a la octava potencia",
      "metadata": {}
    },
    {
      "cell_type": "code",
      "source": "print(2**8)",
      "metadata": {
        "trusted": true
      },
      "execution_count": 14,
      "outputs": [
        {
          "name": "stdout",
          "text": "256\n",
          "output_type": "stream"
        }
      ]
    },
    {
      "cell_type": "markdown",
      "source": "15) Obtener el cociente de la división de 27 entre 4 en una variable y luego mostrarla",
      "metadata": {}
    },
    {
      "cell_type": "code",
      "source": "coci = 27/4\nprint(coci)",
      "metadata": {
        "trusted": true
      },
      "execution_count": 15,
      "outputs": [
        {
          "name": "stdout",
          "text": "6.75\n",
          "output_type": "stream"
        }
      ]
    },
    {
      "cell_type": "markdown",
      "source": "16) De la división anterior solamente mostrar la parte entera",
      "metadata": {}
    },
    {
      "cell_type": "code",
      "source": "coci2 = coci // 1\nprint(coci2)",
      "metadata": {
        "trusted": true
      },
      "execution_count": 16,
      "outputs": [
        {
          "name": "stdout",
          "text": "6.0\n",
          "output_type": "stream"
        }
      ]
    },
    {
      "cell_type": "markdown",
      "source": "17) De la división de 27 entre 4 mostrar solamente el resto",
      "metadata": {}
    },
    {
      "cell_type": "code",
      "source": "coci3 = 27 % 4\nprint(coci3)",
      "metadata": {
        "trusted": true
      },
      "execution_count": 17,
      "outputs": [
        {
          "name": "stdout",
          "text": "3\n",
          "output_type": "stream"
        }
      ]
    },
    {
      "cell_type": "markdown",
      "source": "18) Utilizando como operandos el número 4 y los resultados obtenidos en los puntos 16 y 17. Obtener 27 como resultado",
      "metadata": {}
    },
    {
      "cell_type": "code",
      "source": "print(4 * coci2 + coci3)",
      "metadata": {
        "trusted": true
      },
      "execution_count": 18,
      "outputs": [
        {
          "name": "stdout",
          "text": "27.0\n",
          "output_type": "stream"
        }
      ]
    },
    {
      "cell_type": "markdown",
      "source": "19) Utilizar el operador \"+\" en una operación donde intervengan solo variables alfanuméricas",
      "metadata": {}
    },
    {
      "cell_type": "code",
      "source": "al = \"Hola \"\nmundo =\"pha\"\nprint(al + mundo)",
      "metadata": {
        "trusted": true
      },
      "execution_count": 19,
      "outputs": [
        {
          "name": "stdout",
          "text": "Hola pha\n",
          "output_type": "stream"
        }
      ]
    },
    {
      "cell_type": "markdown",
      "source": "20) Evaluar si \"2\" es igual a 2. ¿Por qué ocurre eso?",
      "metadata": {}
    },
    {
      "cell_type": "code",
      "source": "print(\"2\" == 2) # Pasa porque uno es string y otro es integer lo cual ambos no son iguales",
      "metadata": {
        "trusted": true
      },
      "execution_count": 20,
      "outputs": [
        {
          "name": "stdout",
          "text": "False\n",
          "output_type": "stream"
        }
      ]
    },
    {
      "cell_type": "markdown",
      "source": "21) Utilizar las funciones de cambio de tipo de dato, para que la validación del punto 20 resulte verdadera",
      "metadata": {}
    },
    {
      "cell_type": "code",
      "source": "print(int(\"2\") == 2)",
      "metadata": {
        "trusted": true
      },
      "execution_count": 21,
      "outputs": [
        {
          "name": "stdout",
          "text": "True\n",
          "output_type": "stream"
        }
      ]
    },
    {
      "cell_type": "markdown",
      "source": "22) ¿Por qué arroja error el siguiente cambio de tipo de datos? a = float('3,8')",
      "metadata": {}
    },
    {
      "cell_type": "code",
      "source": "#Eso arroja error porque un float consiste en un numero y un punto y otro numero pero alli ese string tiene una coma la cual no sirve",
      "metadata": {
        "trusted": true
      },
      "execution_count": 22,
      "outputs": []
    },
    {
      "cell_type": "markdown",
      "source": "23) Crear una variable con el valor 3, y utilizar el operador '-=' para modificar su contenido y que de como resultado 2.",
      "metadata": {}
    },
    {
      "cell_type": "code",
      "source": "valto = 3\nvalto -= 1\nprint(valto)",
      "metadata": {
        "trusted": true
      },
      "execution_count": 23,
      "outputs": [
        {
          "name": "stdout",
          "text": "2\n",
          "output_type": "stream"
        }
      ]
    },
    {
      "cell_type": "markdown",
      "source": "24) Realizar la operacion 1 << 2 ¿Por qué da ese resultado? ¿Qué es el sistema de numeración binario?",
      "metadata": {}
    },
    {
      "cell_type": "code",
      "source": "print(1 << 2) #Da asi porque estamos indicando que el uno se le agrege dos ceros (100) y despues lo traduzca a binario, el sistema de numeracion binario es un sistema en el cual cada cifra va incrementando la potencia de 2 el numero indica si se muestra o no y al final se suma todo eso",
      "metadata": {
        "trusted": true
      },
      "execution_count": 24,
      "outputs": [
        {
          "name": "stdout",
          "text": "4\n",
          "output_type": "stream"
        }
      ]
    },
    {
      "cell_type": "markdown",
      "source": "25) Realizar la operación 2 + '2' ¿Por qué no está permitido? ¿Si los dos operandos serían del mismo tipo, siempre arrojaría el mismo resultado?",
      "metadata": {}
    },
    {
      "cell_type": "code",
      "source": "print(2 + \"2\") # Se genera error porque no se puede sumar dos tipos de datos distintos ya que el programa no sabe si debe sumarle el dos al texto o al numero ni que debe convertirlo al final, y la segunda pregunta;: no siempre, ya que si se suma numeros se hace operacion matematica y si se suma texto se hace una operacion literal (sumas dos o agregas al lado un dos al dos)",
      "metadata": {
        "trusted": true
      },
      "execution_count": 25,
      "outputs": [
        {
          "ename": "<class 'TypeError'>",
          "evalue": "unsupported operand type(s) for +: 'int' and 'str'",
          "traceback": [
            "\u001b[0;31m---------------------------------------------------------------------------\u001b[0m",
            "\u001b[0;31mTypeError\u001b[0m                                 Traceback (most recent call last)",
            "Cell \u001b[0;32mIn[25], line 1\u001b[0m\n\u001b[0;32m----> 1\u001b[0m \u001b[38;5;28mprint\u001b[39m(\u001b[38;5;241;43m2\u001b[39;49m\u001b[43m \u001b[49m\u001b[38;5;241;43m+\u001b[39;49m\u001b[43m \u001b[49m\u001b[38;5;124;43m\"\u001b[39;49m\u001b[38;5;124;43m2\u001b[39;49m\u001b[38;5;124;43m\"\u001b[39;49m) \u001b[38;5;66;03m# Se genera error porque no se puede sumar dos tipos de datos distintos ya que el programa no sabe si debe sumarle el dos al texto o al numero ni que debe convertirlo al final, y la segunda pregunta;: no siempre, ya que si se suma numeros se hace operacion matematica y si se suma texto se hace una operacion literal (sumas dos o agregas al lado un dos al dos)\u001b[39;00m\n",
            "\u001b[0;31mTypeError\u001b[0m: unsupported operand type(s) for +: 'int' and 'str'"
          ],
          "output_type": "error"
        }
      ]
    },
    {
      "cell_type": "markdown",
      "source": "26) Realizar una operación válida entre valores de tipo entero y string",
      "metadata": {}
    },
    {
      "cell_type": "code",
      "source": "print(\"2\" * 2)",
      "metadata": {
        "trusted": true
      },
      "execution_count": 26,
      "outputs": [
        {
          "name": "stdout",
          "text": "22\n",
          "output_type": "stream"
        }
      ]
    },
    {
      "cell_type": "code",
      "source": "",
      "metadata": {},
      "execution_count": null,
      "outputs": []
    }
  ]
}