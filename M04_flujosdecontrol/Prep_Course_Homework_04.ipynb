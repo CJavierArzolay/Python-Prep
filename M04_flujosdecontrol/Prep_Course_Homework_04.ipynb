{
  "metadata": {
    "interpreter": {
      "hash": "c85384e4cb51c8b72350f3a8712cc8351fdc3955e32a27f9b60c6242ab125f01"
    },
    "kernelspec": {
      "name": "python",
      "display_name": "Python (Pyodide)",
      "language": "python"
    },
    "language_info": {
      "codemirror_mode": {
        "name": "python",
        "version": 3
      },
      "file_extension": ".py",
      "mimetype": "text/x-python",
      "name": "python",
      "nbconvert_exporter": "python",
      "pygments_lexer": "ipython3",
      "version": "3.8"
    }
  },
  "nbformat_minor": 4,
  "nbformat": 4,
  "cells": [
    {
      "cell_type": "markdown",
      "source": "## Flujos de Control",
      "metadata": {}
    },
    {
      "cell_type": "markdown",
      "source": "1) Crear una variable que contenga un elemento del conjunto de números enteros y luego imprimir por pantalla si es mayor o menor a cero",
      "metadata": {}
    },
    {
      "cell_type": "code",
      "source": "import random\nvar = random.randint(-100,100)\nif var > 0:\n    print(str(var) + \" es positivo\")\nelif var == 0:\n    print(\"0 es cero :/\")\nelse:\n    print(str(var) + \" es negativo\")",
      "metadata": {
        "trusted": true
      },
      "execution_count": 1,
      "outputs": [
        {
          "name": "stdout",
          "text": "-84 es negativo\n",
          "output_type": "stream"
        }
      ]
    },
    {
      "cell_type": "markdown",
      "source": "2) Crear dos variables y un condicional que informe si son del mismo tipo de dato",
      "metadata": {}
    },
    {
      "cell_type": "code",
      "source": "var = 38\nber = \"treyntii 0shu\"\nif type(var) == type(ber):\n    print(\"son del mismo tipo! :D\")\nelse:\n    print(\"no son del mismo tipo! D:\")",
      "metadata": {
        "trusted": true
      },
      "execution_count": 2,
      "outputs": [
        {
          "name": "stdout",
          "text": "no son del mismo tipo! D:\n",
          "output_type": "stream"
        }
      ]
    },
    {
      "cell_type": "markdown",
      "source": "3) Para los valores enteros del 1 al 20, imprimir por pantalla si es par o impar",
      "metadata": {}
    },
    {
      "cell_type": "code",
      "source": "for i in range(1,21):\n    if not i % 2:\n        print(str(i) + \" es par!\")\n    else:\n        print(str(i) + \" es impar\")",
      "metadata": {
        "trusted": true
      },
      "execution_count": 3,
      "outputs": [
        {
          "name": "stdout",
          "text": "1 es impar\n2 es par!\n3 es impar\n4 es par!\n5 es impar\n6 es par!\n7 es impar\n8 es par!\n9 es impar\n10 es par!\n11 es impar\n12 es par!\n13 es impar\n14 es par!\n15 es impar\n16 es par!\n17 es impar\n18 es par!\n19 es impar\n20 es par!\n",
          "output_type": "stream"
        }
      ]
    },
    {
      "cell_type": "markdown",
      "source": "4) En un ciclo for mostrar para los valores entre 0 y 5 el resultado de elevarlo a la potencia igual a 3",
      "metadata": {}
    },
    {
      "cell_type": "code",
      "source": "for i in range(5):\n    print(i**3)",
      "metadata": {
        "trusted": true
      },
      "execution_count": 4,
      "outputs": [
        {
          "name": "stdout",
          "text": "0\n1\n8\n27\n64\n",
          "output_type": "stream"
        }
      ]
    },
    {
      "cell_type": "markdown",
      "source": "5) Crear una variable que contenga un número entero y realizar un ciclo for la misma cantidad de ciclos",
      "metadata": {}
    },
    {
      "cell_type": "code",
      "source": "from random import randint\nvar = randint(1,21)\nfor i in range(var):\n    print(str(i) + \"'o ciclo\")",
      "metadata": {
        "trusted": true
      },
      "execution_count": 5,
      "outputs": [
        {
          "name": "stdout",
          "text": "0'o ciclo\n1'o ciclo\n2'o ciclo\n3'o ciclo\n4'o ciclo\n5'o ciclo\n6'o ciclo\n7'o ciclo\n8'o ciclo\n9'o ciclo\n10'o ciclo\n11'o ciclo\n12'o ciclo\n13'o ciclo\n14'o ciclo\n15'o ciclo\n16'o ciclo\n17'o ciclo\n18'o ciclo\n19'o ciclo\n20'o ciclo\n",
          "output_type": "stream"
        }
      ]
    },
    {
      "cell_type": "markdown",
      "source": "6) Utilizar un ciclo while para realizar el factorial de un número guardado en una variable, sólo si la variable contiene un número entero mayor a 0",
      "metadata": {}
    },
    {
      "cell_type": "code",
      "source": "from random import randint\nvar = randint(-20,20)\nif var > 0 and not var % 1:\n    e = var - 1\n    result = var\n    while e != 0:\n        result *= e\n        e -= 1\n    print(str(result) +\" es el factorial de \"+ str(var))",
      "metadata": {
        "trusted": true
      },
      "execution_count": 6,
      "outputs": [
        {
          "name": "stdout",
          "text": "6227020800 es el factorial de 13\n",
          "output_type": "stream"
        }
      ]
    },
    {
      "cell_type": "markdown",
      "source": "7) Crear un ciclo for dentro de un ciclo while",
      "metadata": {}
    },
    {
      "cell_type": "code",
      "source": "i = 0\nwhile i < 5:\n    for e in [\"benz\",\"marshal\",\"tomy\"]:\n        print(\"numero \"+ str(i) +\" llendo a: \" + e)\n    i += 1",
      "metadata": {
        "trusted": true
      },
      "execution_count": 7,
      "outputs": [
        {
          "name": "stdout",
          "text": "numero 0 llendo a: benz\nnumero 0 llendo a: marshal\nnumero 0 llendo a: tomy\nnumero 1 llendo a: benz\nnumero 1 llendo a: marshal\nnumero 1 llendo a: tomy\nnumero 2 llendo a: benz\nnumero 2 llendo a: marshal\nnumero 2 llendo a: tomy\nnumero 3 llendo a: benz\nnumero 3 llendo a: marshal\nnumero 3 llendo a: tomy\nnumero 4 llendo a: benz\nnumero 4 llendo a: marshal\nnumero 4 llendo a: tomy\n",
          "output_type": "stream"
        }
      ]
    },
    {
      "cell_type": "markdown",
      "source": "8) Crear un ciclo while dentro de un ciclo for",
      "metadata": {}
    },
    {
      "cell_type": "code",
      "source": "e = 0\nfor i in [\"pa \",\"a \",\"y al final \"]:\n    while e != 3:\n        print(i + str(e))\n        e+= 1\n    print(\"otra vez!\")\n    e = 0\nprint(\"listo\")",
      "metadata": {
        "trusted": true
      },
      "execution_count": 8,
      "outputs": [
        {
          "name": "stdout",
          "text": "pa 0\npa 1\npa 2\notra vez!\na 0\na 1\na 2\notra vez!\ny al final 0\ny al final 1\ny al final 2\notra vez!\nlisto\n",
          "output_type": "stream"
        }
      ]
    },
    {
      "cell_type": "markdown",
      "source": "9) Imprimir los números primos existentes entre 0 y 30",
      "metadata": {}
    },
    {
      "cell_type": "code",
      "source": "var = []\npri = []\nfor i in range(30):\n    for e in range(i +1):\n        if e != 0 and not i % e:\n            var.append(e)\n    if len(var) == 2:\n        pri.append(e)\n    var = []\nprint(\"los primos hasta 30 son: \" + str(pri))",
      "metadata": {
        "trusted": true
      },
      "execution_count": 9,
      "outputs": [
        {
          "name": "stdout",
          "text": "los primos hasta 30 son: [2, 3, 5, 7, 11, 13, 17, 19, 23, 29]\n",
          "output_type": "stream"
        }
      ]
    },
    {
      "cell_type": "markdown",
      "source": "10) ¿Se puede mejorar el proceso del punto 9? Utilizar las sentencias break y/ó continue para tal fin",
      "metadata": {}
    },
    {
      "cell_type": "code",
      "source": "# por supuesto que si si se controla de forma aduecuada:\npri = []\nfor i in range(30):\n    for e in range(i+1):\n        if e in [0,1]:\n            continue\n        elif e == i:\n            pri.append(i)\n        else:\n            if i % e == 0:\n                break\nprint(\"los primos hasta el 30 son: \" + str(pri))",
      "metadata": {
        "trusted": true
      },
      "execution_count": 10,
      "outputs": [
        {
          "name": "stdout",
          "text": "los primos hasta el 30 son: [2, 3, 5, 7, 11, 13, 17, 19, 23, 29]\n",
          "output_type": "stream"
        }
      ]
    },
    {
      "cell_type": "markdown",
      "source": "11) En los puntos 9 y 10, se diseño un código que encuentra números primos y además se lo optimizó. ¿Es posible saber en qué medida se optimizó?",
      "metadata": {}
    },
    {
      "cell_type": "code",
      "source": "\"\"\"Es posible si se coloca en una variable la cantidad de ciclado que se hace en cada\ncalculo que sume un + 1 para asi saber cuantos ciclos tuvo que recorrer por ejemplo:\"\"\"\n\n#A\npri = []\nciclos = 0\nfor i in range(30):\n    for e in range(i+1):\n        ciclos += 1\n        if e in [0,1]:\n            continue\n        elif e == i:\n            pri.append(i)\n        else:\n            if i % e == 0:\n                break\n    ciclos += 1\n    \n#B\nciclos2 = 0\nvar = []\npri = []\nfor i in range(30):\n    for e in range(i +1):\n        ciclos2 += 1\n        if e != 0 and not i % e:\n            var.append(e)\n            \n    if len(var) == 2:\n        pri.append(e)\n    var = []\n    ciclos2 +=1\n\nprint(\"los ciclos de a son: \" + str(ciclos) + \" y de b son: \" + str(ciclos2))\n# Como se se puede ver se ciclo mucho menos en el primero que en el segundo entonces el segundo es mejor\n# Aparte se ve que el no optimizado ocupa mas espacio en memoria",
      "metadata": {
        "trusted": true
      },
      "execution_count": 11,
      "outputs": [
        {
          "name": "stdout",
          "text": "los ciclos de a son: 233 y de b son: 495\n",
          "output_type": "stream"
        }
      ]
    },
    {
      "cell_type": "markdown",
      "source": "12) Aplicando continue, armar un ciclo while que solo imprima los valores divisibles por 12, dentro del rango de números de 100 a 300",
      "metadata": {}
    },
    {
      "cell_type": "code",
      "source": "doc = []\ni = 100\nwhile i <= 300:\n    if i % 12 == 0:\n        doc.append(i)\n    i+=1\nprint(\"Los valores divisibles de 12 de 100 a 300 son: \" + str(doc))",
      "metadata": {
        "trusted": true
      },
      "execution_count": 12,
      "outputs": [
        {
          "name": "stdout",
          "text": "Los valores divisibles de 12 de 100 a 300 son: [108, 120, 132, 144, 156, 168, 180, 192, 204, 216, 228, 240, 252, 264, 276, 288, 300]\n",
          "output_type": "stream"
        }
      ]
    },
    {
      "cell_type": "markdown",
      "source": "13) Utilizar la función **input()** que permite hacer ingresos por teclado, para encontrar números primos y dar la opción al usario de buscar el siguiente",
      "metadata": {}
    },
    {
      "cell_type": "code",
      "source": "ans = \"yes\"\nwhile ans != \"no\":\n    #num = input(\"Que numero quieres saber si es primo?: \")\n    num = str(\"8\")\n    num = int(num)\n    for e in range(num+1):\n        if e in [0,1]:\n            continue\n        elif e == num:\n            print(str(num) + \" es primo!\")\n            break\n        else:\n            if num % e == 0:\n                print(str(num) + \" no es primo :(\")\n                break\n    #ans = input(\"continuar? (si no diga no): \")\n    ans = \"no\"",
      "metadata": {
        "trusted": true
      },
      "execution_count": 13,
      "outputs": [
        {
          "name": "stdout",
          "text": "8 no es primo :(\n",
          "output_type": "stream"
        }
      ]
    },
    {
      "cell_type": "markdown",
      "source": "14) Crear un ciclo while que encuentre dentro del rango de 100 a 300 el primer número divisible por 3 y además múltiplo de 6",
      "metadata": {}
    },
    {
      "cell_type": "code",
      "source": "num = 100\nwhile num < 300:\n    if num % 3 == 0 and num % 6 == 0:\n        break\n    num += 1\nprint(\"el primer numero divisible por 3 y multiplo de 6 es: \" + str(num))\n",
      "metadata": {
        "trusted": true
      },
      "execution_count": 14,
      "outputs": [
        {
          "name": "stdout",
          "text": "el primer numero divisible por 3 y multiplo de 6 es: 102\n",
          "output_type": "stream"
        }
      ]
    },
    {
      "cell_type": "code",
      "source": "",
      "metadata": {},
      "execution_count": null,
      "outputs": []
    }
  ]
}